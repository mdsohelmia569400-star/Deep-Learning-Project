{
  "nbformat": 4,
  "nbformat_minor": 0,
  "metadata": {
    "colab": {
      "provenance": []
    },
    "kernelspec": {
      "name": "python3",
      "display_name": "Python 3"
    },
    "language_info": {
      "name": "python"
    }
  },
  "cells": [
    {
      "cell_type": "markdown",
      "source": [
        "\n",
        "\n",
        "Need help\n",
        "\n",
        "\n"
      ],
      "metadata": {
        "id": "Dc67dewazeVO"
      }
    },
    {
      "cell_type": "code",
      "source": [
        "import torch\n",
        "from torch.utils.data import TensorDataset, DataLoader, Subset\n",
        "from sklearn.datasets import load_iris\n",
        "from sklearn.model_selection import KFold\n",
        "import torch.nn as nn\n",
        "import torch.optim as optim\n",
        "import numpy as np\n",
        "\n",
        "# 1. Load Iris dataset and convert to PyTorch tensors\n",
        "iris = load_iris()\n",
        "X = torch.tensor(iris.data, dtype=torch.float32)\n",
        "y = torch.tensor(iris.target, dtype=torch.long)\n",
        "\n",
        "dataset = TensorDataset(X, y)\n",
        "\n",
        "# 2. Set up K-Fold cross-validation\n",
        "k = 5\n",
        "kf = KFold(n_splits=k, shuffle=True, random_state=42)\n",
        "fold = 1\n",
        "accuracies = []\n",
        "\n",
        "# 3. Define a simple neural network model\n",
        "class SimpleModel(nn.Module):\n",
        "    def __init__(self):\n",
        "        super().__init__()\n",
        "        self.net = nn.Sequential(\n",
        "            nn.Linear(4, 16),\n",
        "            nn.ReLU(),\n",
        "            nn.Linear(16, 3)  # 3 classes for Iris\n",
        "        )\n",
        "\n",
        "    def forward(self, x):\n",
        "        return self.net(x)\n",
        "\n",
        "# 4. Loop through each fold\n",
        "for train_idx, val_idx in kf.split(dataset):\n",
        "    print(f\"\\nFold {fold}\")\n",
        "\n",
        "    train_subset = Subset(dataset, train_idx)\n",
        "    val_subset = Subset(dataset, val_idx)\n",
        "\n",
        "    train_loader = DataLoader(train_subset, batch_size=16, shuffle=True)\n",
        "    val_loader = DataLoader(val_subset, batch_size=16)\n",
        "\n",
        "    model = SimpleModel()\n",
        "    criterion = nn.CrossEntropyLoss()\n",
        "    optimizer = optim.Adam(model.parameters(), lr=0.01)\n",
        "\n",
        "    # Training loop\n",
        "    model.train()\n",
        "    for epoch in range(50):  # few epochs for simplicity\n",
        "        for xb, yb in train_loader:\n",
        "            optimizer.zero_grad()\n",
        "            output = model(xb)\n",
        "            loss = criterion(output, yb)\n",
        "            loss.backward()\n",
        "            optimizer.step()\n",
        "\n",
        "    # Validation\n",
        "    model.eval()\n",
        "    correct = total = 0\n",
        "    with torch.no_grad():\n",
        "        for xb, yb in val_loader:\n",
        "            output = model(xb)\n",
        "            preds = torch.argmax(output, dim=1)\n",
        "            correct += (preds == yb).sum().item()\n",
        "            total += yb.size(0)\n",
        "\n",
        "    acc = correct / total\n",
        "    accuracies.append(acc)\n",
        "    print(f\"Accuracy: {acc * 100:.2f}%\")\n",
        "    fold += 1\n",
        "\n",
        "# 5. Final result\n",
        "print(f\"\\nAverage Accuracy: {np.mean(accuracies) * 100:.2f}%\")\n"
      ],
      "metadata": {
        "colab": {
          "base_uri": "https://localhost:8080/"
        },
        "id": "HpGJAcdGw6t_",
        "outputId": "ad968f67-5af1-4829-dd5f-96e7175b3db7"
      },
      "execution_count": null,
      "outputs": [
        {
          "output_type": "stream",
          "name": "stdout",
          "text": [
            "\n",
            "Fold 1\n",
            "Accuracy: 96.67%\n",
            "\n",
            "Fold 2\n",
            "Accuracy: 96.67%\n",
            "\n",
            "Fold 3\n",
            "Accuracy: 96.67%\n",
            "\n",
            "Fold 4\n",
            "Accuracy: 93.33%\n",
            "\n",
            "Fold 5\n",
            "Accuracy: 100.00%\n",
            "\n",
            "Average Accuracy: 96.67%\n"
          ]
        }
      ]
    },
    {
      "cell_type": "code",
      "source": [
        "dataset"
      ],
      "metadata": {
        "id": "ifxUqIZMw6xU",
        "colab": {
          "base_uri": "https://localhost:8080/"
        },
        "outputId": "f1d9d447-19ca-47f2-b701-26b49ba84fba"
      },
      "execution_count": null,
      "outputs": [
        {
          "output_type": "execute_result",
          "data": {
            "text/plain": [
              "<torch.utils.data.dataset.TensorDataset at 0x7bdd95582250>"
            ]
          },
          "metadata": {},
          "execution_count": 2
        }
      ]
    },
    {
      "cell_type": "code",
      "source": [],
      "metadata": {
        "id": "lgmz2u_Kw60K"
      },
      "execution_count": null,
      "outputs": []
    },
    {
      "cell_type": "code",
      "source": [],
      "metadata": {
        "id": "8cffaF2dw63V"
      },
      "execution_count": null,
      "outputs": []
    },
    {
      "cell_type": "code",
      "source": [],
      "metadata": {
        "id": "0Q-QYgI1w66g"
      },
      "execution_count": null,
      "outputs": []
    },
    {
      "cell_type": "code",
      "source": [],
      "metadata": {
        "id": "WlXbAyT1w69j"
      },
      "execution_count": null,
      "outputs": []
    }
  ]
}