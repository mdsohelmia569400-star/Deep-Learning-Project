{
  "nbformat": 4,
  "nbformat_minor": 0,
  "metadata": {
    "colab": {
      "provenance": []
    },
    "kernelspec": {
      "name": "python3",
      "display_name": "Python 3"
    },
    "language_info": {
      "name": "python"
    }
  },
  "cells": [
    {
      "cell_type": "markdown",
      "source": [
        "Single Neuron Implementation\n",
        "\n",
        "This notebook demonstrates the implementation of a single neuron. The neuron will take weighted inputs, add a bias, and apply a sigmoid activation function to produce an output."
      ],
      "metadata": {
        "id": "3ju3HZ-4_Iv9"
      }
    },
    {
      "cell_type": "markdown",
      "source": [
        "Neuron Implementation\n",
        "\n",
        "We will define the sigmoid function and the feedforward function to calculate the output of the neuron.[link text](https://)"
      ],
      "metadata": {
        "id": "CmlxcShwKaZp"
      }
    },
    {
      "cell_type": "code",
      "execution_count": null,
      "metadata": {
        "id": "SCoZ4GUA-ya1"
      },
      "outputs": [],
      "source": [
        "import math\n"
      ]
    },
    {
      "cell_type": "code",
      "source": [
        "def sigmoid(z):\n",
        "  return 1 / (1 + math.exp(-z))"
      ],
      "metadata": {
        "id": "KyCWxzjB_AXl"
      },
      "execution_count": null,
      "outputs": []
    },
    {
      "cell_type": "markdown",
      "source": [
        "Feed forward network\n",
        "1. calculates the waighted sum of inputs plus the bias\n",
        "2. Applies the sigmoid acctivation function to the total\n"
      ],
      "metadata": {
        "id": "zTk61CaOBmb5"
      }
    },
    {
      "cell_type": "code",
      "source": [
        "def feed_forward(inputs, weights, bias):\n",
        "  total = sum(w*x for w, x in zip(weights, inputs))+ bias\n",
        "  return sigmoid(total)"
      ],
      "metadata": {
        "id": "N8p5l2ZZBqf8"
      },
      "execution_count": null,
      "outputs": []
    },
    {
      "cell_type": "markdown",
      "source": [
        "Classify(): converts the sigmoid output to a class label based on a threshold(deafult is 0.5)"
      ],
      "metadata": {
        "id": "zkTDwhEADBfe"
      }
    },
    {
      "cell_type": "code",
      "source": [
        "def classify(output, threshold=0.5):\n",
        "  return 1 if output>= threshold else 0\n"
      ],
      "metadata": {
        "id": "mor1nhr8_AVC"
      },
      "execution_count": null,
      "outputs": []
    },
    {
      "cell_type": "markdown",
      "source": [
        "We will define the bias, weight and input than calculate the output of the neuron using the feedforward function"
      ],
      "metadata": {
        "id": "H5cdkNtlEP5J"
      }
    },
    {
      "cell_type": "code",
      "source": [
        "weights = [0,1]\n",
        "bias = 0.5\n",
        "inputs = [2,3]\n",
        "output = feed_forward(inputs, weights, bias)\n",
        "print(f'output of the neuron for inputs{inputs} is:{output}')"
      ],
      "metadata": {
        "colab": {
          "base_uri": "https://localhost:8080/"
        },
        "id": "bdPFqwaK_ASO",
        "outputId": "4269d266-da9d-4dc1-eab7-f717463c780c"
      },
      "execution_count": null,
      "outputs": [
        {
          "output_type": "stream",
          "name": "stdout",
          "text": [
            "output of the neuron for inputs[2, 3] is:0.9706877692486436\n"
          ]
        }
      ]
    },
    {
      "cell_type": "code",
      "source": [
        "class_label = classify(output)\n",
        "print(f'The class label for the output {output} is {class_label}')"
      ],
      "metadata": {
        "colab": {
          "base_uri": "https://localhost:8080/"
        },
        "id": "ookCXvMN_APP",
        "outputId": "af81bc80-335c-4532-d5e8-1163a56e7ebe"
      },
      "execution_count": null,
      "outputs": [
        {
          "output_type": "stream",
          "name": "stdout",
          "text": [
            "The class label for the output 0.9706877692486436 is 1\n"
          ]
        }
      ]
    },
    {
      "cell_type": "code",
      "source": [],
      "metadata": {
        "id": "p4r2XHYhKKI8"
      },
      "execution_count": null,
      "outputs": []
    },
    {
      "cell_type": "code",
      "source": [],
      "metadata": {
        "id": "3YZlHQlP_AJv"
      },
      "execution_count": null,
      "outputs": []
    },
    {
      "cell_type": "code",
      "source": [],
      "metadata": {
        "id": "QEUJYNOD_AG_"
      },
      "execution_count": null,
      "outputs": []
    },
    {
      "cell_type": "code",
      "source": [],
      "metadata": {
        "id": "XaT1nMut_AEV"
      },
      "execution_count": null,
      "outputs": []
    },
    {
      "cell_type": "code",
      "source": [],
      "metadata": {
        "id": "YHzrG911_ABt"
      },
      "execution_count": null,
      "outputs": []
    },
    {
      "cell_type": "code",
      "source": [],
      "metadata": {
        "id": "_W_3Smko-_-m"
      },
      "execution_count": null,
      "outputs": []
    }
  ]
}