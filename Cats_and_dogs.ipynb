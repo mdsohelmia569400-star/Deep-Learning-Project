{
  "nbformat": 4,
  "nbformat_minor": 0,
  "metadata": {
    "colab": {
      "provenance": []
    },
    "kernelspec": {
      "name": "python3",
      "display_name": "Python 3"
    },
    "language_info": {
      "name": "python"
    }
  },
  "cells": [
    {
      "cell_type": "code",
      "execution_count": null,
      "metadata": {
        "id": "5PNxp9ywSWzh"
      },
      "outputs": [],
      "source": [
        "import matplotlib.pyplot as plt\n",
        "import tensorflow as tf\n",
        "import pandas as pd\n",
        "import numpy as np\n",
        "\n",
        "import warnings\n",
        "warnings.filterwarnings('ignore')\n",
        "\n",
        "from tensorflow import keras\n",
        "from keras import layers\n",
        "from tensorflow.keras.models import Sequential\n",
        "from tensorflow.keras.layers import Activation, Dropout, Flatten, Dense\n",
        "from tensorflow.keras.layers import Conv2D, MaxPooling2D\n",
        "from tensorflow.keras.utils import image_dataset_from_directory\n",
        "from tensorflow.keras.preprocessing.image import ImageDataGenerator, load_img\n",
        "from tensorflow.keras.preprocessing import image_dataset_from_directory\n",
        "\n",
        "import os\n",
        "import matplotlib.image as mpimg"
      ]
    },
    {
      "cell_type": "code",
      "source": [],
      "metadata": {
        "id": "K82gndcFSYVC"
      },
      "execution_count": null,
      "outputs": []
    },
    {
      "cell_type": "code",
      "source": [
        "from zipfile import ZipFile\n",
        "\n",
        "data_path = '/content/drive/MyDrive/Dog and cat.zip'\n",
        "\n",
        "with ZipFile(data_path, 'r') as zip:\n",
        "    zip.extractall()\n",
        "    print('The data set has been extracted.')"
      ],
      "metadata": {
        "colab": {
          "base_uri": "https://localhost:8080/"
        },
        "id": "o4k9m86ISYYH",
        "outputId": "d71aa099-fdba-4741-efdc-65f30840b480"
      },
      "execution_count": null,
      "outputs": [
        {
          "output_type": "stream",
          "name": "stdout",
          "text": [
            "The data set has been extracted.\n"
          ]
        }
      ]
    },
    {
      "cell_type": "code",
      "source": [
        "import matplotlib.pyplot as plt\n",
        "import matplotlib.image as mpimg\n",
        "import os\n",
        "\n",
        "\n",
        "\n",
        "cat_dir = '/content/cats'\n",
        "dog_dir = '/content/dogs'\n",
        "\n",
        "cat_names = os.listdir(cat_dir)\n",
        "dog_names = os.listdir(dog_dir)\n",
        "\n",
        "pic_index = 210  # Make sure this is <= len(cat_names) and len(dog_names)\n",
        "\n",
        "# Slice the last 8 images\n",
        "cat_images = [os.path.join(cat_dir, fname) for fname in cat_names[pic_index-8:pic_index]]\n",
        "dog_images = [os.path.join(dog_dir, fname) for fname in dog_names[pic_index-8:pic_index]]\n",
        "\n",
        "fig = plt.gcf()\n",
        "fig.set_size_inches(16, 16)\n",
        "\n",
        "for i, img_path in enumerate(cat_images + dog_images):\n",
        "    sp = plt.subplot(4, 4, i + 1)\n",
        "    sp.axis('Off')\n",
        "    img = mpimg.imread(img_path)\n",
        "    plt.imshow(img)\n",
        "\n",
        "plt.tight_layout()\n",
        "plt.show()\n",
        "\n"
      ],
      "metadata": {
        "colab": {
          "base_uri": "https://localhost:8080/",
          "height": 34
        },
        "id": "us3KtzhQ5QFb",
        "outputId": "77a0768f-3e53-4501-bb11-40948537b63a"
      },
      "execution_count": null,
      "outputs": [
        {
          "output_type": "display_data",
          "data": {
            "text/plain": [
              "<Figure size 1600x1600 with 0 Axes>"
            ]
          },
          "metadata": {}
        }
      ]
    },
    {
      "cell_type": "code",
      "source": [
        "import matplotlib.pyplot as plt\n",
        "import matplotlib.image as mpimg\n",
        "import os\n",
        "fig = plt.gcf()\n",
        "fig.set_size_inches(16, 16)\n",
        "\n",
        "cat_dir = os.path.join('/content/cats')\n",
        "dog_dir = os.path.join('/content/dogs')\n",
        "cat_names = os.listdir(cat_dir)\n",
        "dog_names = os.listdir(dog_dir)\n",
        "\n",
        "pic_index = 210\n",
        "\n",
        "cat_images = [os.path.join(cat_dir, fname)\n",
        "              for fname in cat_names[pic_index-8:pic_index]]\n",
        "dog_images = [os.path.join(dog_dir, fname)\n",
        "              for fname in dog_names[pic_index-8:pic_index]]\n",
        "\n",
        "for i, img_path in enumerate(cat_images + dog_images):\n",
        "    sp = plt.subplot(4, 4, i+1)\n",
        "    sp.axis('Off')\n",
        "\n",
        "    img = mpimg.imread(img_path)\n",
        "    plt.imshow(img)\n",
        "\n",
        "plt.show()"
      ],
      "metadata": {
        "id": "-H7HC-inSYlo",
        "colab": {
          "base_uri": "https://localhost:8080/",
          "height": 34
        },
        "outputId": "3e28faf1-5af7-42cd-9a9d-32256bffc022"
      },
      "execution_count": null,
      "outputs": [
        {
          "output_type": "display_data",
          "data": {
            "text/plain": [
              "<Figure size 1600x1600 with 0 Axes>"
            ]
          },
          "metadata": {}
        }
      ]
    },
    {
      "cell_type": "code",
      "source": [],
      "metadata": {
        "id": "ZHoeHOJCSYor"
      },
      "execution_count": null,
      "outputs": []
    },
    {
      "cell_type": "code",
      "source": [],
      "metadata": {
        "id": "Nh0lxPm7SYrY"
      },
      "execution_count": null,
      "outputs": []
    },
    {
      "cell_type": "code",
      "source": [],
      "metadata": {
        "id": "F0QiXKbkSYuD"
      },
      "execution_count": null,
      "outputs": []
    }
  ]
}